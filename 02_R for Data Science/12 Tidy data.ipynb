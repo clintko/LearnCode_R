{
 "cells": [
  {
   "cell_type": "markdown",
   "metadata": {},
   "source": [
    "# Tidy data"
   ]
  },
  {
   "cell_type": "markdown",
   "metadata": {},
   "source": [
    "- Weblink\n",
    "    - http://r4ds.had.co.nz/tidy-data.html\n",
    "- Main Content\n",
    "    - mutate\n",
    "    - Spreading and gathering\n",
    "    - Separating and uniting\n",
    "    - Missing values\n",
    "    - Case Study"
   ]
  },
  {
   "cell_type": "code",
   "execution_count": 1,
   "metadata": {},
   "outputs": [
    {
     "name": "stderr",
     "output_type": "stream",
     "text": [
      "── Attaching packages ─────────────────────────────────────── tidyverse 1.2.1 ──\n",
      "✔ ggplot2 2.2.1     ✔ purrr   0.2.4\n",
      "✔ tibble  1.4.2     ✔ dplyr   0.7.4\n",
      "✔ tidyr   0.7.2     ✔ stringr 1.2.0\n",
      "✔ readr   1.1.1     ✔ forcats 0.2.0\n",
      "── Conflicts ────────────────────────────────────────── tidyverse_conflicts() ──\n",
      "✖ dplyr::filter() masks stats::filter()\n",
      "✖ dplyr::lag()    masks stats::lag()\n"
     ]
    }
   ],
   "source": [
    "library(tidyverse)"
   ]
  },
  {
   "cell_type": "code",
   "execution_count": 37,
   "metadata": {},
   "outputs": [
    {
     "name": "stdout",
     "output_type": "stream",
     "text": [
      "[1] \"table1\"\n"
     ]
    },
    {
     "data": {
      "text/html": [
       "<table>\n",
       "<thead><tr><th scope=col>country</th><th scope=col>year</th><th scope=col>cases</th><th scope=col>population</th></tr></thead>\n",
       "<tbody>\n",
       "\t<tr><td>Afghanistan</td><td>1999       </td><td>   745     </td><td>  19987071 </td></tr>\n",
       "\t<tr><td>Afghanistan</td><td>2000       </td><td>  2666     </td><td>  20595360 </td></tr>\n",
       "\t<tr><td>Brazil     </td><td>1999       </td><td> 37737     </td><td> 172006362 </td></tr>\n",
       "\t<tr><td>Brazil     </td><td>2000       </td><td> 80488     </td><td> 174504898 </td></tr>\n",
       "\t<tr><td>China      </td><td>1999       </td><td>212258     </td><td>1272915272 </td></tr>\n",
       "\t<tr><td>China      </td><td>2000       </td><td>213766     </td><td>1280428583 </td></tr>\n",
       "</tbody>\n",
       "</table>\n"
      ],
      "text/latex": [
       "\\begin{tabular}{r|llll}\n",
       " country & year & cases & population\\\\\n",
       "\\hline\n",
       "\t Afghanistan & 1999        &    745      &   19987071 \\\\\n",
       "\t Afghanistan & 2000        &   2666      &   20595360 \\\\\n",
       "\t Brazil      & 1999        &  37737      &  172006362 \\\\\n",
       "\t Brazil      & 2000        &  80488      &  174504898 \\\\\n",
       "\t China       & 1999        & 212258      & 1272915272 \\\\\n",
       "\t China       & 2000        & 213766      & 1280428583 \\\\\n",
       "\\end{tabular}\n"
      ],
      "text/markdown": [
       "\n",
       "country | year | cases | population | \n",
       "|---|---|---|---|---|---|\n",
       "| Afghanistan | 1999        |    745      |   19987071  | \n",
       "| Afghanistan | 2000        |   2666      |   20595360  | \n",
       "| Brazil      | 1999        |  37737      |  172006362  | \n",
       "| Brazil      | 2000        |  80488      |  174504898  | \n",
       "| China       | 1999        | 212258      | 1272915272  | \n",
       "| China       | 2000        | 213766      | 1280428583  | \n",
       "\n",
       "\n"
      ],
      "text/plain": [
       "  country     year cases  population\n",
       "1 Afghanistan 1999    745   19987071\n",
       "2 Afghanistan 2000   2666   20595360\n",
       "3 Brazil      1999  37737  172006362\n",
       "4 Brazil      2000  80488  174504898\n",
       "5 China       1999 212258 1272915272\n",
       "6 China       2000 213766 1280428583"
      ]
     },
     "metadata": {},
     "output_type": "display_data"
    },
    {
     "name": "stdout",
     "output_type": "stream",
     "text": [
      "[1] \"table2\"\n"
     ]
    },
    {
     "data": {
      "text/html": [
       "<table>\n",
       "<thead><tr><th scope=col>country</th><th scope=col>year</th><th scope=col>type</th><th scope=col>count</th></tr></thead>\n",
       "<tbody>\n",
       "\t<tr><td>Afghanistan</td><td>1999       </td><td>cases      </td><td>       745 </td></tr>\n",
       "\t<tr><td>Afghanistan</td><td>1999       </td><td>population </td><td>  19987071 </td></tr>\n",
       "\t<tr><td>Afghanistan</td><td>2000       </td><td>cases      </td><td>      2666 </td></tr>\n",
       "\t<tr><td>Afghanistan</td><td>2000       </td><td>population </td><td>  20595360 </td></tr>\n",
       "\t<tr><td>Brazil     </td><td>1999       </td><td>cases      </td><td>     37737 </td></tr>\n",
       "\t<tr><td>Brazil     </td><td>1999       </td><td>population </td><td> 172006362 </td></tr>\n",
       "\t<tr><td>Brazil     </td><td>2000       </td><td>cases      </td><td>     80488 </td></tr>\n",
       "\t<tr><td>Brazil     </td><td>2000       </td><td>population </td><td> 174504898 </td></tr>\n",
       "\t<tr><td>China      </td><td>1999       </td><td>cases      </td><td>    212258 </td></tr>\n",
       "\t<tr><td>China      </td><td>1999       </td><td>population </td><td>1272915272 </td></tr>\n",
       "\t<tr><td>China      </td><td>2000       </td><td>cases      </td><td>    213766 </td></tr>\n",
       "\t<tr><td>China      </td><td>2000       </td><td>population </td><td>1280428583 </td></tr>\n",
       "</tbody>\n",
       "</table>\n"
      ],
      "text/latex": [
       "\\begin{tabular}{r|llll}\n",
       " country & year & type & count\\\\\n",
       "\\hline\n",
       "\t Afghanistan & 1999        & cases       &        745 \\\\\n",
       "\t Afghanistan & 1999        & population  &   19987071 \\\\\n",
       "\t Afghanistan & 2000        & cases       &       2666 \\\\\n",
       "\t Afghanistan & 2000        & population  &   20595360 \\\\\n",
       "\t Brazil      & 1999        & cases       &      37737 \\\\\n",
       "\t Brazil      & 1999        & population  &  172006362 \\\\\n",
       "\t Brazil      & 2000        & cases       &      80488 \\\\\n",
       "\t Brazil      & 2000        & population  &  174504898 \\\\\n",
       "\t China       & 1999        & cases       &     212258 \\\\\n",
       "\t China       & 1999        & population  & 1272915272 \\\\\n",
       "\t China       & 2000        & cases       &     213766 \\\\\n",
       "\t China       & 2000        & population  & 1280428583 \\\\\n",
       "\\end{tabular}\n"
      ],
      "text/markdown": [
       "\n",
       "country | year | type | count | \n",
       "|---|---|---|---|---|---|---|---|---|---|---|---|\n",
       "| Afghanistan | 1999        | cases       |        745  | \n",
       "| Afghanistan | 1999        | population  |   19987071  | \n",
       "| Afghanistan | 2000        | cases       |       2666  | \n",
       "| Afghanistan | 2000        | population  |   20595360  | \n",
       "| Brazil      | 1999        | cases       |      37737  | \n",
       "| Brazil      | 1999        | population  |  172006362  | \n",
       "| Brazil      | 2000        | cases       |      80488  | \n",
       "| Brazil      | 2000        | population  |  174504898  | \n",
       "| China       | 1999        | cases       |     212258  | \n",
       "| China       | 1999        | population  | 1272915272  | \n",
       "| China       | 2000        | cases       |     213766  | \n",
       "| China       | 2000        | population  | 1280428583  | \n",
       "\n",
       "\n"
      ],
      "text/plain": [
       "   country     year type       count     \n",
       "1  Afghanistan 1999 cases             745\n",
       "2  Afghanistan 1999 population   19987071\n",
       "3  Afghanistan 2000 cases            2666\n",
       "4  Afghanistan 2000 population   20595360\n",
       "5  Brazil      1999 cases           37737\n",
       "6  Brazil      1999 population  172006362\n",
       "7  Brazil      2000 cases           80488\n",
       "8  Brazil      2000 population  174504898\n",
       "9  China       1999 cases          212258\n",
       "10 China       1999 population 1272915272\n",
       "11 China       2000 cases          213766\n",
       "12 China       2000 population 1280428583"
      ]
     },
     "metadata": {},
     "output_type": "display_data"
    },
    {
     "name": "stdout",
     "output_type": "stream",
     "text": [
      "[1] \"table3\"\n"
     ]
    },
    {
     "data": {
      "text/html": [
       "<table>\n",
       "<thead><tr><th scope=col>country</th><th scope=col>year</th><th scope=col>rate</th></tr></thead>\n",
       "<tbody>\n",
       "\t<tr><td>Afghanistan      </td><td>1999             </td><td>745/19987071     </td></tr>\n",
       "\t<tr><td>Afghanistan      </td><td>2000             </td><td>2666/20595360    </td></tr>\n",
       "\t<tr><td>Brazil           </td><td>1999             </td><td>37737/172006362  </td></tr>\n",
       "\t<tr><td>Brazil           </td><td>2000             </td><td>80488/174504898  </td></tr>\n",
       "\t<tr><td>China            </td><td>1999             </td><td>212258/1272915272</td></tr>\n",
       "\t<tr><td>China            </td><td>2000             </td><td>213766/1280428583</td></tr>\n",
       "</tbody>\n",
       "</table>\n"
      ],
      "text/latex": [
       "\\begin{tabular}{r|lll}\n",
       " country & year & rate\\\\\n",
       "\\hline\n",
       "\t Afghanistan       & 1999              & 745/19987071     \\\\\n",
       "\t Afghanistan       & 2000              & 2666/20595360    \\\\\n",
       "\t Brazil            & 1999              & 37737/172006362  \\\\\n",
       "\t Brazil            & 2000              & 80488/174504898  \\\\\n",
       "\t China             & 1999              & 212258/1272915272\\\\\n",
       "\t China             & 2000              & 213766/1280428583\\\\\n",
       "\\end{tabular}\n"
      ],
      "text/markdown": [
       "\n",
       "country | year | rate | \n",
       "|---|---|---|---|---|---|\n",
       "| Afghanistan       | 1999              | 745/19987071      | \n",
       "| Afghanistan       | 2000              | 2666/20595360     | \n",
       "| Brazil            | 1999              | 37737/172006362   | \n",
       "| Brazil            | 2000              | 80488/174504898   | \n",
       "| China             | 1999              | 212258/1272915272 | \n",
       "| China             | 2000              | 213766/1280428583 | \n",
       "\n",
       "\n"
      ],
      "text/plain": [
       "  country     year rate             \n",
       "1 Afghanistan 1999 745/19987071     \n",
       "2 Afghanistan 2000 2666/20595360    \n",
       "3 Brazil      1999 37737/172006362  \n",
       "4 Brazil      2000 80488/174504898  \n",
       "5 China       1999 212258/1272915272\n",
       "6 China       2000 213766/1280428583"
      ]
     },
     "metadata": {},
     "output_type": "display_data"
    },
    {
     "name": "stdout",
     "output_type": "stream",
     "text": [
      "[1] \"table4a\"\n"
     ]
    },
    {
     "data": {
      "text/html": [
       "<table>\n",
       "<thead><tr><th scope=col>country</th><th scope=col>1999</th><th scope=col>2000</th></tr></thead>\n",
       "<tbody>\n",
       "\t<tr><td>Afghanistan</td><td>   745     </td><td>  2666     </td></tr>\n",
       "\t<tr><td>Brazil     </td><td> 37737     </td><td> 80488     </td></tr>\n",
       "\t<tr><td>China      </td><td>212258     </td><td>213766     </td></tr>\n",
       "</tbody>\n",
       "</table>\n"
      ],
      "text/latex": [
       "\\begin{tabular}{r|lll}\n",
       " country & 1999 & 2000\\\\\n",
       "\\hline\n",
       "\t Afghanistan &    745      &   2666     \\\\\n",
       "\t Brazil      &  37737      &  80488     \\\\\n",
       "\t China       & 212258      & 213766     \\\\\n",
       "\\end{tabular}\n"
      ],
      "text/markdown": [
       "\n",
       "country | 1999 | 2000 | \n",
       "|---|---|---|\n",
       "| Afghanistan |    745      |   2666      | \n",
       "| Brazil      |  37737      |  80488      | \n",
       "| China       | 212258      | 213766      | \n",
       "\n",
       "\n"
      ],
      "text/plain": [
       "  country     1999   2000  \n",
       "1 Afghanistan    745   2666\n",
       "2 Brazil       37737  80488\n",
       "3 China       212258 213766"
      ]
     },
     "metadata": {},
     "output_type": "display_data"
    },
    {
     "name": "stdout",
     "output_type": "stream",
     "text": [
      "[1] \"table4b\"\n"
     ]
    },
    {
     "data": {
      "text/html": [
       "<table>\n",
       "<thead><tr><th scope=col>country</th><th scope=col>1999</th><th scope=col>2000</th></tr></thead>\n",
       "<tbody>\n",
       "\t<tr><td>Afghanistan</td><td>  19987071 </td><td>  20595360 </td></tr>\n",
       "\t<tr><td>Brazil     </td><td> 172006362 </td><td> 174504898 </td></tr>\n",
       "\t<tr><td>China      </td><td>1272915272 </td><td>1280428583 </td></tr>\n",
       "</tbody>\n",
       "</table>\n"
      ],
      "text/latex": [
       "\\begin{tabular}{r|lll}\n",
       " country & 1999 & 2000\\\\\n",
       "\\hline\n",
       "\t Afghanistan &   19987071  &   20595360 \\\\\n",
       "\t Brazil      &  172006362  &  174504898 \\\\\n",
       "\t China       & 1272915272  & 1280428583 \\\\\n",
       "\\end{tabular}\n"
      ],
      "text/markdown": [
       "\n",
       "country | 1999 | 2000 | \n",
       "|---|---|---|\n",
       "| Afghanistan |   19987071  |   20595360  | \n",
       "| Brazil      |  172006362  |  174504898  | \n",
       "| China       | 1272915272  | 1280428583  | \n",
       "\n",
       "\n"
      ],
      "text/plain": [
       "  country     1999       2000      \n",
       "1 Afghanistan   19987071   20595360\n",
       "2 Brazil       172006362  174504898\n",
       "3 China       1272915272 1280428583"
      ]
     },
     "metadata": {},
     "output_type": "display_data"
    },
    {
     "name": "stdout",
     "output_type": "stream",
     "text": [
      "[1] \"table5\"\n"
     ]
    },
    {
     "data": {
      "text/html": [
       "<table>\n",
       "<thead><tr><th scope=col>country</th><th scope=col>century</th><th scope=col>year</th><th scope=col>rate</th></tr></thead>\n",
       "<tbody>\n",
       "\t<tr><td>Afghanistan      </td><td>19               </td><td>99               </td><td>745/19987071     </td></tr>\n",
       "\t<tr><td>Afghanistan      </td><td>20               </td><td>00               </td><td>2666/20595360    </td></tr>\n",
       "\t<tr><td>Brazil           </td><td>19               </td><td>99               </td><td>37737/172006362  </td></tr>\n",
       "\t<tr><td>Brazil           </td><td>20               </td><td>00               </td><td>80488/174504898  </td></tr>\n",
       "\t<tr><td>China            </td><td>19               </td><td>99               </td><td>212258/1272915272</td></tr>\n",
       "\t<tr><td>China            </td><td>20               </td><td>00               </td><td>213766/1280428583</td></tr>\n",
       "</tbody>\n",
       "</table>\n"
      ],
      "text/latex": [
       "\\begin{tabular}{r|llll}\n",
       " country & century & year & rate\\\\\n",
       "\\hline\n",
       "\t Afghanistan       & 19                & 99                & 745/19987071     \\\\\n",
       "\t Afghanistan       & 20                & 00                & 2666/20595360    \\\\\n",
       "\t Brazil            & 19                & 99                & 37737/172006362  \\\\\n",
       "\t Brazil            & 20                & 00                & 80488/174504898  \\\\\n",
       "\t China             & 19                & 99                & 212258/1272915272\\\\\n",
       "\t China             & 20                & 00                & 213766/1280428583\\\\\n",
       "\\end{tabular}\n"
      ],
      "text/markdown": [
       "\n",
       "country | century | year | rate | \n",
       "|---|---|---|---|---|---|\n",
       "| Afghanistan       | 19                | 99                | 745/19987071      | \n",
       "| Afghanistan       | 20                | 00                | 2666/20595360     | \n",
       "| Brazil            | 19                | 99                | 37737/172006362   | \n",
       "| Brazil            | 20                | 00                | 80488/174504898   | \n",
       "| China             | 19                | 99                | 212258/1272915272 | \n",
       "| China             | 20                | 00                | 213766/1280428583 | \n",
       "\n",
       "\n"
      ],
      "text/plain": [
       "  country     century year rate             \n",
       "1 Afghanistan 19      99   745/19987071     \n",
       "2 Afghanistan 20      00   2666/20595360    \n",
       "3 Brazil      19      99   37737/172006362  \n",
       "4 Brazil      20      00   80488/174504898  \n",
       "5 China       19      99   212258/1272915272\n",
       "6 China       20      00   213766/1280428583"
      ]
     },
     "metadata": {},
     "output_type": "display_data"
    }
   ],
   "source": [
    "# after running examples, I found that the example can be extract as follow\n",
    "print(\"table1\")\n",
    "tidyr::table1\n",
    "print(\"table2\")\n",
    "tidyr::table2\n",
    "print(\"table3\")\n",
    "tidyr::table3\n",
    "print(\"table4a\")\n",
    "tidyr::table4a\n",
    "print(\"table4b\")\n",
    "tidyr::table4b\n",
    "print(\"table5\")\n",
    "tidyr::table5"
   ]
  },
  {
   "cell_type": "markdown",
   "metadata": {},
   "source": [
    "# 12.1 Introduction"
   ]
  },
  {
   "cell_type": "code",
   "execution_count": 8,
   "metadata": {},
   "outputs": [
    {
     "data": {
      "text/html": [
       "<table>\n",
       "<thead><tr><th scope=col>country</th><th scope=col>year</th><th scope=col>cases</th><th scope=col>population</th></tr></thead>\n",
       "<tbody>\n",
       "\t<tr><td>Afghanistan</td><td>1999       </td><td>   745     </td><td>  19987071 </td></tr>\n",
       "\t<tr><td>Afghanistan</td><td>2000       </td><td>  2666     </td><td>  20595360 </td></tr>\n",
       "\t<tr><td>Brazil     </td><td>1999       </td><td> 37737     </td><td> 172006362 </td></tr>\n",
       "\t<tr><td>Brazil     </td><td>2000       </td><td> 80488     </td><td> 174504898 </td></tr>\n",
       "\t<tr><td>China      </td><td>1999       </td><td>212258     </td><td>1272915272 </td></tr>\n",
       "\t<tr><td>China      </td><td>2000       </td><td>213766     </td><td>1280428583 </td></tr>\n",
       "</tbody>\n",
       "</table>\n"
      ],
      "text/latex": [
       "\\begin{tabular}{r|llll}\n",
       " country & year & cases & population\\\\\n",
       "\\hline\n",
       "\t Afghanistan & 1999        &    745      &   19987071 \\\\\n",
       "\t Afghanistan & 2000        &   2666      &   20595360 \\\\\n",
       "\t Brazil      & 1999        &  37737      &  172006362 \\\\\n",
       "\t Brazil      & 2000        &  80488      &  174504898 \\\\\n",
       "\t China       & 1999        & 212258      & 1272915272 \\\\\n",
       "\t China       & 2000        & 213766      & 1280428583 \\\\\n",
       "\\end{tabular}\n"
      ],
      "text/markdown": [
       "\n",
       "country | year | cases | population | \n",
       "|---|---|---|---|---|---|\n",
       "| Afghanistan | 1999        |    745      |   19987071  | \n",
       "| Afghanistan | 2000        |   2666      |   20595360  | \n",
       "| Brazil      | 1999        |  37737      |  172006362  | \n",
       "| Brazil      | 2000        |  80488      |  174504898  | \n",
       "| China       | 1999        | 212258      | 1272915272  | \n",
       "| China       | 2000        | 213766      | 1280428583  | \n",
       "\n",
       "\n"
      ],
      "text/plain": [
       "  country     year cases  population\n",
       "1 Afghanistan 1999    745   19987071\n",
       "2 Afghanistan 2000   2666   20595360\n",
       "3 Brazil      1999  37737  172006362\n",
       "4 Brazil      2000  80488  174504898\n",
       "5 China       1999 212258 1272915272\n",
       "6 China       2000 213766 1280428583"
      ]
     },
     "metadata": {},
     "output_type": "display_data"
    }
   ],
   "source": [
    "table1 <- read_csv(\n",
    "\"country,year,cases,population\n",
    "Afghanistan,1999,745,19987071\n",
    "Afghanistan,2000,2666,20595360\n",
    "Brazil,1999,37737,172006362\n",
    "Brazil,2000,80488,174504898\n",
    "China,1999,212258,1272915272\n",
    "China,2000,213766,1280428583\")\n",
    "table1"
   ]
  },
  {
   "cell_type": "markdown",
   "metadata": {},
   "source": [
    "# 12.2 Tidy data"
   ]
  },
  {
   "cell_type": "code",
   "execution_count": 9,
   "metadata": {},
   "outputs": [
    {
     "data": {
      "text/html": [
       "<table>\n",
       "<thead><tr><th scope=col>country</th><th scope=col>year</th><th scope=col>cases</th><th scope=col>population</th><th scope=col>rate</th></tr></thead>\n",
       "<tbody>\n",
       "\t<tr><td>Afghanistan</td><td>1999       </td><td>   745     </td><td>  19987071 </td><td>0.372741   </td></tr>\n",
       "\t<tr><td>Afghanistan</td><td>2000       </td><td>  2666     </td><td>  20595360 </td><td>1.294466   </td></tr>\n",
       "\t<tr><td>Brazil     </td><td>1999       </td><td> 37737     </td><td> 172006362 </td><td>2.193930   </td></tr>\n",
       "\t<tr><td>Brazil     </td><td>2000       </td><td> 80488     </td><td> 174504898 </td><td>4.612363   </td></tr>\n",
       "\t<tr><td>China      </td><td>1999       </td><td>212258     </td><td>1272915272 </td><td>1.667495   </td></tr>\n",
       "\t<tr><td>China      </td><td>2000       </td><td>213766     </td><td>1280428583 </td><td>1.669488   </td></tr>\n",
       "</tbody>\n",
       "</table>\n"
      ],
      "text/latex": [
       "\\begin{tabular}{r|lllll}\n",
       " country & year & cases & population & rate\\\\\n",
       "\\hline\n",
       "\t Afghanistan & 1999        &    745      &   19987071  & 0.372741   \\\\\n",
       "\t Afghanistan & 2000        &   2666      &   20595360  & 1.294466   \\\\\n",
       "\t Brazil      & 1999        &  37737      &  172006362  & 2.193930   \\\\\n",
       "\t Brazil      & 2000        &  80488      &  174504898  & 4.612363   \\\\\n",
       "\t China       & 1999        & 212258      & 1272915272  & 1.667495   \\\\\n",
       "\t China       & 2000        & 213766      & 1280428583  & 1.669488   \\\\\n",
       "\\end{tabular}\n"
      ],
      "text/markdown": [
       "\n",
       "country | year | cases | population | rate | \n",
       "|---|---|---|---|---|---|\n",
       "| Afghanistan | 1999        |    745      |   19987071  | 0.372741    | \n",
       "| Afghanistan | 2000        |   2666      |   20595360  | 1.294466    | \n",
       "| Brazil      | 1999        |  37737      |  172006362  | 2.193930    | \n",
       "| Brazil      | 2000        |  80488      |  174504898  | 4.612363    | \n",
       "| China       | 1999        | 212258      | 1272915272  | 1.667495    | \n",
       "| China       | 2000        | 213766      | 1280428583  | 1.669488    | \n",
       "\n",
       "\n"
      ],
      "text/plain": [
       "  country     year cases  population rate    \n",
       "1 Afghanistan 1999    745   19987071 0.372741\n",
       "2 Afghanistan 2000   2666   20595360 1.294466\n",
       "3 Brazil      1999  37737  172006362 2.193930\n",
       "4 Brazil      2000  80488  174504898 4.612363\n",
       "5 China       1999 212258 1272915272 1.667495\n",
       "6 China       2000 213766 1280428583 1.669488"
      ]
     },
     "metadata": {},
     "output_type": "display_data"
    }
   ],
   "source": [
    "# Compute rate per 10,000\n",
    "table1 %>% mutate(rate = cases / population * 10000)"
   ]
  },
  {
   "cell_type": "code",
   "execution_count": 10,
   "metadata": {},
   "outputs": [
    {
     "data": {
      "text/html": [
       "<table>\n",
       "<thead><tr><th scope=col>year</th><th scope=col>n</th></tr></thead>\n",
       "<tbody>\n",
       "\t<tr><td>1999  </td><td>250740</td></tr>\n",
       "\t<tr><td>2000  </td><td>296920</td></tr>\n",
       "</tbody>\n",
       "</table>\n"
      ],
      "text/latex": [
       "\\begin{tabular}{r|ll}\n",
       " year & n\\\\\n",
       "\\hline\n",
       "\t 1999   & 250740\\\\\n",
       "\t 2000   & 296920\\\\\n",
       "\\end{tabular}\n"
      ],
      "text/markdown": [
       "\n",
       "year | n | \n",
       "|---|---|\n",
       "| 1999   | 250740 | \n",
       "| 2000   | 296920 | \n",
       "\n",
       "\n"
      ],
      "text/plain": [
       "  year n     \n",
       "1 1999 250740\n",
       "2 2000 296920"
      ]
     },
     "metadata": {},
     "output_type": "display_data"
    }
   ],
   "source": [
    "# Compute cases per year\n",
    "table1 %>% count(year, wt = cases)\n",
    "# Note: https://github.com/tidyverse/dplyr/issues/2043"
   ]
  },
  {
   "cell_type": "code",
   "execution_count": 13,
   "metadata": {},
   "outputs": [
    {
     "data": {},
     "metadata": {},
     "output_type": "display_data"
    },
    {
     "data": {
      "image/png": "[encoded data removed]",
      "text/plain": [
       "plot without title"
      ]
     },
     "metadata": {},
     "output_type": "display_data",
     "source": "R display func"
    }
   ],
   "source": [
    "# Visualise changes over time\n",
    "ggplot(table1, aes(year, cases)) +\n",
    "    geom_line(aes(group = country), color = \"grey50\") + \n",
    "    geom_point(aes(color = country))"
   ]
  },
  {
   "cell_type": "markdown",
   "metadata": {},
   "source": [
    "# 12.3 Spreading and gathering"
   ]
  },
  {
   "cell_type": "markdown",
   "metadata": {},
   "source": [
    "## Gathering"
   ]
  },
  {
   "cell_type": "code",
   "execution_count": 14,
   "metadata": {},
   "outputs": [
    {
     "data": {
      "text/html": [
       "<table>\n",
       "<thead><tr><th scope=col>country</th><th scope=col>`1999`</th><th scope=col>`2000`</th></tr></thead>\n",
       "<tbody>\n",
       "\t<tr><td>Afghanistan</td><td>   745     </td><td>  2666     </td></tr>\n",
       "\t<tr><td>Brazil     </td><td> 37737     </td><td> 80488     </td></tr>\n",
       "\t<tr><td>China      </td><td>212258     </td><td>213766     </td></tr>\n",
       "</tbody>\n",
       "</table>\n"
      ],
      "text/latex": [
       "\\begin{tabular}{r|lll}\n",
       " country & `1999` & `2000`\\\\\n",
       "\\hline\n",
       "\t Afghanistan &    745      &   2666     \\\\\n",
       "\t Brazil      &  37737      &  80488     \\\\\n",
       "\t China       & 212258      & 213766     \\\\\n",
       "\\end{tabular}\n"
      ],
      "text/markdown": [
       "\n",
       "country | `1999` | `2000` | \n",
       "|---|---|---|\n",
       "| Afghanistan |    745      |   2666      | \n",
       "| Brazil      |  37737      |  80488      | \n",
       "| China       | 212258      | 213766      | \n",
       "\n",
       "\n"
      ],
      "text/plain": [
       "  country     `1999` `2000`\n",
       "1 Afghanistan    745   2666\n",
       "2 Brazil       37737  80488\n",
       "3 China       212258 213766"
      ]
     },
     "metadata": {},
     "output_type": "display_data"
    }
   ],
   "source": [
    "table4a <- read_csv(\n",
    "   \"country, `1999`, `2000`\n",
    "Afghanistan,    745,   2666\n",
    "     Brazil,  37737,  80488\n",
    "      China, 212258, 213766\")\n",
    "table4a"
   ]
  },
  {
   "cell_type": "code",
   "execution_count": 16,
   "metadata": {},
   "outputs": [
    {
     "data": {
      "text/html": [
       "<table>\n",
       "<thead><tr><th scope=col>country</th><th scope=col>year</th><th scope=col>cases</th></tr></thead>\n",
       "<tbody>\n",
       "\t<tr><td>Afghanistan</td><td>`1999`     </td><td>   745     </td></tr>\n",
       "\t<tr><td>Brazil     </td><td>`1999`     </td><td> 37737     </td></tr>\n",
       "\t<tr><td>China      </td><td>`1999`     </td><td>212258     </td></tr>\n",
       "\t<tr><td>Afghanistan</td><td>`2000`     </td><td>  2666     </td></tr>\n",
       "\t<tr><td>Brazil     </td><td>`2000`     </td><td> 80488     </td></tr>\n",
       "\t<tr><td>China      </td><td>`2000`     </td><td>213766     </td></tr>\n",
       "</tbody>\n",
       "</table>\n"
      ],
      "text/latex": [
       "\\begin{tabular}{r|lll}\n",
       " country & year & cases\\\\\n",
       "\\hline\n",
       "\t Afghanistan & `1999`      &    745     \\\\\n",
       "\t Brazil      & `1999`      &  37737     \\\\\n",
       "\t China       & `1999`      & 212258     \\\\\n",
       "\t Afghanistan & `2000`      &   2666     \\\\\n",
       "\t Brazil      & `2000`      &  80488     \\\\\n",
       "\t China       & `2000`      & 213766     \\\\\n",
       "\\end{tabular}\n"
      ],
      "text/markdown": [
       "\n",
       "country | year | cases | \n",
       "|---|---|---|---|---|---|\n",
       "| Afghanistan | `1999`      |    745      | \n",
       "| Brazil      | `1999`      |  37737      | \n",
       "| China       | `1999`      | 212258      | \n",
       "| Afghanistan | `2000`      |   2666      | \n",
       "| Brazil      | `2000`      |  80488      | \n",
       "| China       | `2000`      | 213766      | \n",
       "\n",
       "\n"
      ],
      "text/plain": [
       "  country     year   cases \n",
       "1 Afghanistan `1999`    745\n",
       "2 Brazil      `1999`  37737\n",
       "3 China       `1999` 212258\n",
       "4 Afghanistan `2000`   2666\n",
       "5 Brazil      `2000`  80488\n",
       "6 China       `2000` 213766"
      ]
     },
     "metadata": {},
     "output_type": "display_data"
    }
   ],
   "source": [
    "#table4a %>% gather(`1999`, `2000`, key = \"year\", value = \"cases\")\n",
    "table4a %>% gather(year, cases, -country)"
   ]
  },
  {
   "cell_type": "code",
   "execution_count": 17,
   "metadata": {},
   "outputs": [
    {
     "data": {
      "text/html": [
       "<table>\n",
       "<thead><tr><th scope=col>country</th><th scope=col>`1999`</th><th scope=col>`2000`</th></tr></thead>\n",
       "<tbody>\n",
       "\t<tr><td>country    </td><td>`1999`     </td><td>`2000`     </td></tr>\n",
       "\t<tr><td>Afghanistan</td><td>19987071   </td><td>20595360   </td></tr>\n",
       "\t<tr><td>Brazil     </td><td>172006362  </td><td>174504898  </td></tr>\n",
       "\t<tr><td>China      </td><td>1272915272 </td><td>1280428583 </td></tr>\n",
       "</tbody>\n",
       "</table>\n"
      ],
      "text/latex": [
       "\\begin{tabular}{r|lll}\n",
       " country & `1999` & `2000`\\\\\n",
       "\\hline\n",
       "\t country     & `1999`      & `2000`     \\\\\n",
       "\t Afghanistan & 19987071    & 20595360   \\\\\n",
       "\t Brazil      & 172006362   & 174504898  \\\\\n",
       "\t China       & 1272915272  & 1280428583 \\\\\n",
       "\\end{tabular}\n"
      ],
      "text/markdown": [
       "\n",
       "country | `1999` | `2000` | \n",
       "|---|---|---|---|\n",
       "| country     | `1999`      | `2000`      | \n",
       "| Afghanistan | 19987071    | 20595360    | \n",
       "| Brazil      | 172006362   | 174504898   | \n",
       "| China       | 1272915272  | 1280428583  | \n",
       "\n",
       "\n"
      ],
      "text/plain": [
       "  country     `1999`     `2000`    \n",
       "1 country     `1999`     `2000`    \n",
       "2 Afghanistan 19987071   20595360  \n",
       "3 Brazil      172006362  174504898 \n",
       "4 China       1272915272 1280428583"
      ]
     },
     "metadata": {},
     "output_type": "display_data"
    }
   ],
   "source": [
    "table4b  <- read_csv(\"\n",
    "    country,     `1999`,     `2000`\n",
    "Afghanistan,   19987071,   20595360\n",
    "     Brazil,  172006362,  174504898\n",
    "      China, 1272915272, 1280428583\")\n",
    "table4b"
   ]
  },
  {
   "cell_type": "code",
   "execution_count": 19,
   "metadata": {},
   "outputs": [
    {
     "data": {
      "text/html": [
       "<table>\n",
       "<thead><tr><th scope=col>country</th><th scope=col>year</th><th scope=col>population</th></tr></thead>\n",
       "<tbody>\n",
       "\t<tr><td>country    </td><td>`1999`     </td><td>`1999`     </td></tr>\n",
       "\t<tr><td>Afghanistan</td><td>`1999`     </td><td>19987071   </td></tr>\n",
       "\t<tr><td>Brazil     </td><td>`1999`     </td><td>172006362  </td></tr>\n",
       "\t<tr><td>China      </td><td>`1999`     </td><td>1272915272 </td></tr>\n",
       "\t<tr><td>country    </td><td>`2000`     </td><td>`2000`     </td></tr>\n",
       "\t<tr><td>Afghanistan</td><td>`2000`     </td><td>20595360   </td></tr>\n",
       "\t<tr><td>Brazil     </td><td>`2000`     </td><td>174504898  </td></tr>\n",
       "\t<tr><td>China      </td><td>`2000`     </td><td>1280428583 </td></tr>\n",
       "</tbody>\n",
       "</table>\n"
      ],
      "text/latex": [
       "\\begin{tabular}{r|lll}\n",
       " country & year & population\\\\\n",
       "\\hline\n",
       "\t country     & `1999`      & `1999`     \\\\\n",
       "\t Afghanistan & `1999`      & 19987071   \\\\\n",
       "\t Brazil      & `1999`      & 172006362  \\\\\n",
       "\t China       & `1999`      & 1272915272 \\\\\n",
       "\t country     & `2000`      & `2000`     \\\\\n",
       "\t Afghanistan & `2000`      & 20595360   \\\\\n",
       "\t Brazil      & `2000`      & 174504898  \\\\\n",
       "\t China       & `2000`      & 1280428583 \\\\\n",
       "\\end{tabular}\n"
      ],
      "text/markdown": [
       "\n",
       "country | year | population | \n",
       "|---|---|---|---|---|---|---|---|\n",
       "| country     | `1999`      | `1999`      | \n",
       "| Afghanistan | `1999`      | 19987071    | \n",
       "| Brazil      | `1999`      | 172006362   | \n",
       "| China       | `1999`      | 1272915272  | \n",
       "| country     | `2000`      | `2000`      | \n",
       "| Afghanistan | `2000`      | 20595360    | \n",
       "| Brazil      | `2000`      | 174504898   | \n",
       "| China       | `2000`      | 1280428583  | \n",
       "\n",
       "\n"
      ],
      "text/plain": [
       "  country     year   population\n",
       "1 country     `1999` `1999`    \n",
       "2 Afghanistan `1999` 19987071  \n",
       "3 Brazil      `1999` 172006362 \n",
       "4 China       `1999` 1272915272\n",
       "5 country     `2000` `2000`    \n",
       "6 Afghanistan `2000` 20595360  \n",
       "7 Brazil      `2000` 174504898 \n",
       "8 China       `2000` 1280428583"
      ]
     },
     "metadata": {},
     "output_type": "display_data"
    }
   ],
   "source": [
    "#table4b %>% gather(`1999`, `2000`, key = \"year\", value = \"population\")\n",
    "table4b %>% gather(year, population, -country)"
   ]
  },
  {
   "cell_type": "code",
   "execution_count": 20,
   "metadata": {},
   "outputs": [
    {
     "name": "stderr",
     "output_type": "stream",
     "text": [
      "Joining, by = c(\"country\", \"year\")\n"
     ]
    },
    {
     "data": {
      "text/html": [
       "<table>\n",
       "<thead><tr><th scope=col>country</th><th scope=col>year</th><th scope=col>cases</th><th scope=col>population</th></tr></thead>\n",
       "<tbody>\n",
       "\t<tr><td>Afghanistan</td><td>`1999`     </td><td>   745     </td><td>19987071   </td></tr>\n",
       "\t<tr><td>Brazil     </td><td>`1999`     </td><td> 37737     </td><td>172006362  </td></tr>\n",
       "\t<tr><td>China      </td><td>`1999`     </td><td>212258     </td><td>1272915272 </td></tr>\n",
       "\t<tr><td>Afghanistan</td><td>`2000`     </td><td>  2666     </td><td>20595360   </td></tr>\n",
       "\t<tr><td>Brazil     </td><td>`2000`     </td><td> 80488     </td><td>174504898  </td></tr>\n",
       "\t<tr><td>China      </td><td>`2000`     </td><td>213766     </td><td>1280428583 </td></tr>\n",
       "</tbody>\n",
       "</table>\n"
      ],
      "text/latex": [
       "\\begin{tabular}{r|llll}\n",
       " country & year & cases & population\\\\\n",
       "\\hline\n",
       "\t Afghanistan & `1999`      &    745      & 19987071   \\\\\n",
       "\t Brazil      & `1999`      &  37737      & 172006362  \\\\\n",
       "\t China       & `1999`      & 212258      & 1272915272 \\\\\n",
       "\t Afghanistan & `2000`      &   2666      & 20595360   \\\\\n",
       "\t Brazil      & `2000`      &  80488      & 174504898  \\\\\n",
       "\t China       & `2000`      & 213766      & 1280428583 \\\\\n",
       "\\end{tabular}\n"
      ],
      "text/markdown": [
       "\n",
       "country | year | cases | population | \n",
       "|---|---|---|---|---|---|\n",
       "| Afghanistan | `1999`      |    745      | 19987071    | \n",
       "| Brazil      | `1999`      |  37737      | 172006362   | \n",
       "| China       | `1999`      | 212258      | 1272915272  | \n",
       "| Afghanistan | `2000`      |   2666      | 20595360    | \n",
       "| Brazil      | `2000`      |  80488      | 174504898   | \n",
       "| China       | `2000`      | 213766      | 1280428583  | \n",
       "\n",
       "\n"
      ],
      "text/plain": [
       "  country     year   cases  population\n",
       "1 Afghanistan `1999`    745 19987071  \n",
       "2 Brazil      `1999`  37737 172006362 \n",
       "3 China       `1999` 212258 1272915272\n",
       "4 Afghanistan `2000`   2666 20595360  \n",
       "5 Brazil      `2000`  80488 174504898 \n",
       "6 China       `2000` 213766 1280428583"
      ]
     },
     "metadata": {},
     "output_type": "display_data"
    }
   ],
   "source": [
    "#tidy4a <- table4a %>% \n",
    "#  gather(`1999`, `2000`, key = \"year\", value = \"cases\")\n",
    "#tidy4b <- table4b %>% \n",
    "#  gather(`1999`, `2000`, key = \"year\", value = \"population\")\n",
    "tidy4a <- table4a %>% gather(year, cases, -country)\n",
    "tidy4b <- table4b %>% gather(year, population, -country)\n",
    "left_join(tidy4a, tidy4b)"
   ]
  },
  {
   "cell_type": "markdown",
   "metadata": {},
   "source": [
    "## Spreading"
   ]
  },
  {
   "cell_type": "code",
   "execution_count": 23,
   "metadata": {},
   "outputs": [
    {
     "data": {
      "text/html": [
       "<table>\n",
       "<thead><tr><th scope=col>country</th><th scope=col>year</th><th scope=col>type</th><th scope=col>count</th></tr></thead>\n",
       "<tbody>\n",
       "\t<tr><td>Afghanistan</td><td>1999       </td><td>cases      </td><td>       745 </td></tr>\n",
       "\t<tr><td>Afghanistan</td><td>2000       </td><td>cases      </td><td>      2666 </td></tr>\n",
       "\t<tr><td>Brazil     </td><td>1999       </td><td>cases      </td><td>     37737 </td></tr>\n",
       "\t<tr><td>Brazil     </td><td>2000       </td><td>cases      </td><td>     80488 </td></tr>\n",
       "\t<tr><td>China      </td><td>1999       </td><td>cases      </td><td>    212258 </td></tr>\n",
       "\t<tr><td>China      </td><td>2000       </td><td>cases      </td><td>    213766 </td></tr>\n",
       "\t<tr><td>Afghanistan</td><td>1999       </td><td>population </td><td>  19987071 </td></tr>\n",
       "\t<tr><td>Afghanistan</td><td>2000       </td><td>population </td><td>  20595360 </td></tr>\n",
       "\t<tr><td>Brazil     </td><td>1999       </td><td>population </td><td> 172006362 </td></tr>\n",
       "\t<tr><td>Brazil     </td><td>2000       </td><td>population </td><td> 174504898 </td></tr>\n",
       "\t<tr><td>China      </td><td>1999       </td><td>population </td><td>1272915272 </td></tr>\n",
       "\t<tr><td>China      </td><td>2000       </td><td>population </td><td>1280428583 </td></tr>\n",
       "</tbody>\n",
       "</table>\n"
      ],
      "text/latex": [
       "\\begin{tabular}{r|llll}\n",
       " country & year & type & count\\\\\n",
       "\\hline\n",
       "\t Afghanistan & 1999        & cases       &        745 \\\\\n",
       "\t Afghanistan & 2000        & cases       &       2666 \\\\\n",
       "\t Brazil      & 1999        & cases       &      37737 \\\\\n",
       "\t Brazil      & 2000        & cases       &      80488 \\\\\n",
       "\t China       & 1999        & cases       &     212258 \\\\\n",
       "\t China       & 2000        & cases       &     213766 \\\\\n",
       "\t Afghanistan & 1999        & population  &   19987071 \\\\\n",
       "\t Afghanistan & 2000        & population  &   20595360 \\\\\n",
       "\t Brazil      & 1999        & population  &  172006362 \\\\\n",
       "\t Brazil      & 2000        & population  &  174504898 \\\\\n",
       "\t China       & 1999        & population  & 1272915272 \\\\\n",
       "\t China       & 2000        & population  & 1280428583 \\\\\n",
       "\\end{tabular}\n"
      ],
      "text/markdown": [
       "\n",
       "country | year | type | count | \n",
       "|---|---|---|---|---|---|---|---|---|---|---|---|\n",
       "| Afghanistan | 1999        | cases       |        745  | \n",
       "| Afghanistan | 2000        | cases       |       2666  | \n",
       "| Brazil      | 1999        | cases       |      37737  | \n",
       "| Brazil      | 2000        | cases       |      80488  | \n",
       "| China       | 1999        | cases       |     212258  | \n",
       "| China       | 2000        | cases       |     213766  | \n",
       "| Afghanistan | 1999        | population  |   19987071  | \n",
       "| Afghanistan | 2000        | population  |   20595360  | \n",
       "| Brazil      | 1999        | population  |  172006362  | \n",
       "| Brazil      | 2000        | population  |  174504898  | \n",
       "| China       | 1999        | population  | 1272915272  | \n",
       "| China       | 2000        | population  | 1280428583  | \n",
       "\n",
       "\n"
      ],
      "text/plain": [
       "   country     year type       count     \n",
       "1  Afghanistan 1999 cases             745\n",
       "2  Afghanistan 2000 cases            2666\n",
       "3  Brazil      1999 cases           37737\n",
       "4  Brazil      2000 cases           80488\n",
       "5  China       1999 cases          212258\n",
       "6  China       2000 cases          213766\n",
       "7  Afghanistan 1999 population   19987071\n",
       "8  Afghanistan 2000 population   20595360\n",
       "9  Brazil      1999 population  172006362\n",
       "10 Brazil      2000 population  174504898\n",
       "11 China       1999 population 1272915272\n",
       "12 China       2000 population 1280428583"
      ]
     },
     "metadata": {},
     "output_type": "display_data"
    }
   ],
   "source": [
    "table2 <- table1 %>% gather(type, count, -country, -year)\n",
    "table2"
   ]
  },
  {
   "cell_type": "code",
   "execution_count": 24,
   "metadata": {},
   "outputs": [
    {
     "data": {
      "text/html": [
       "<table>\n",
       "<thead><tr><th scope=col>country</th><th scope=col>year</th><th scope=col>cases</th><th scope=col>population</th></tr></thead>\n",
       "<tbody>\n",
       "\t<tr><td>Afghanistan</td><td>1999       </td><td>   745     </td><td>  19987071 </td></tr>\n",
       "\t<tr><td>Afghanistan</td><td>2000       </td><td>  2666     </td><td>  20595360 </td></tr>\n",
       "\t<tr><td>Brazil     </td><td>1999       </td><td> 37737     </td><td> 172006362 </td></tr>\n",
       "\t<tr><td>Brazil     </td><td>2000       </td><td> 80488     </td><td> 174504898 </td></tr>\n",
       "\t<tr><td>China      </td><td>1999       </td><td>212258     </td><td>1272915272 </td></tr>\n",
       "\t<tr><td>China      </td><td>2000       </td><td>213766     </td><td>1280428583 </td></tr>\n",
       "</tbody>\n",
       "</table>\n"
      ],
      "text/latex": [
       "\\begin{tabular}{r|llll}\n",
       " country & year & cases & population\\\\\n",
       "\\hline\n",
       "\t Afghanistan & 1999        &    745      &   19987071 \\\\\n",
       "\t Afghanistan & 2000        &   2666      &   20595360 \\\\\n",
       "\t Brazil      & 1999        &  37737      &  172006362 \\\\\n",
       "\t Brazil      & 2000        &  80488      &  174504898 \\\\\n",
       "\t China       & 1999        & 212258      & 1272915272 \\\\\n",
       "\t China       & 2000        & 213766      & 1280428583 \\\\\n",
       "\\end{tabular}\n"
      ],
      "text/markdown": [
       "\n",
       "country | year | cases | population | \n",
       "|---|---|---|---|---|---|\n",
       "| Afghanistan | 1999        |    745      |   19987071  | \n",
       "| Afghanistan | 2000        |   2666      |   20595360  | \n",
       "| Brazil      | 1999        |  37737      |  172006362  | \n",
       "| Brazil      | 2000        |  80488      |  174504898  | \n",
       "| China       | 1999        | 212258      | 1272915272  | \n",
       "| China       | 2000        | 213766      | 1280428583  | \n",
       "\n",
       "\n"
      ],
      "text/plain": [
       "  country     year cases  population\n",
       "1 Afghanistan 1999    745   19987071\n",
       "2 Afghanistan 2000   2666   20595360\n",
       "3 Brazil      1999  37737  172006362\n",
       "4 Brazil      2000  80488  174504898\n",
       "5 China       1999 212258 1272915272\n",
       "6 China       2000 213766 1280428583"
      ]
     },
     "metadata": {},
     "output_type": "display_data"
    }
   ],
   "source": [
    "spread(table2, key = type, value = count)"
   ]
  },
  {
   "cell_type": "markdown",
   "metadata": {},
   "source": [
    "## Exercise"
   ]
  },
  {
   "cell_type": "markdown",
   "metadata": {},
   "source": [
    "Q3"
   ]
  },
  {
   "cell_type": "code",
   "execution_count": 26,
   "metadata": {},
   "outputs": [
    {
     "data": {
      "text/html": [
       "<table>\n",
       "<thead><tr><th scope=col>name</th><th scope=col>key</th><th scope=col>value</th></tr></thead>\n",
       "<tbody>\n",
       "\t<tr><td>Phillip Woods  </td><td>age            </td><td> 45            </td></tr>\n",
       "\t<tr><td>Phillip Woods  </td><td>height         </td><td>186            </td></tr>\n",
       "\t<tr><td>Phillip Woods  </td><td>age            </td><td> 50            </td></tr>\n",
       "\t<tr><td>Jessica Cordero</td><td>age            </td><td> 37            </td></tr>\n",
       "\t<tr><td>Jessica Cordero</td><td>height         </td><td>156            </td></tr>\n",
       "</tbody>\n",
       "</table>\n"
      ],
      "text/latex": [
       "\\begin{tabular}{r|lll}\n",
       " name & key & value\\\\\n",
       "\\hline\n",
       "\t Phillip Woods   & age             &  45            \\\\\n",
       "\t Phillip Woods   & height          & 186            \\\\\n",
       "\t Phillip Woods   & age             &  50            \\\\\n",
       "\t Jessica Cordero & age             &  37            \\\\\n",
       "\t Jessica Cordero & height          & 156            \\\\\n",
       "\\end{tabular}\n"
      ],
      "text/markdown": [
       "\n",
       "name | key | value | \n",
       "|---|---|---|---|---|\n",
       "| Phillip Woods   | age             |  45             | \n",
       "| Phillip Woods   | height          | 186             | \n",
       "| Phillip Woods   | age             |  50             | \n",
       "| Jessica Cordero | age             |  37             | \n",
       "| Jessica Cordero | height          | 156             | \n",
       "\n",
       "\n"
      ],
      "text/plain": [
       "  name            key    value\n",
       "1 Phillip Woods   age     45  \n",
       "2 Phillip Woods   height 186  \n",
       "3 Phillip Woods   age     50  \n",
       "4 Jessica Cordero age     37  \n",
       "5 Jessica Cordero height 156  "
      ]
     },
     "metadata": {},
     "output_type": "display_data"
    }
   ],
   "source": [
    "people <- tribble(\n",
    "  ~name,             ~key,    ~value,\n",
    "  #-----------------|--------|------\n",
    "  \"Phillip Woods\",   \"age\",       45,\n",
    "  \"Phillip Woods\",   \"height\",   186,\n",
    "  \"Phillip Woods\",   \"age\",       50,\n",
    "  \"Jessica Cordero\", \"age\",       37,\n",
    "  \"Jessica Cordero\", \"height\",   156\n",
    ")\n",
    "people"
   ]
  },
  {
   "cell_type": "markdown",
   "metadata": {},
   "source": [
    "Q4"
   ]
  },
  {
   "cell_type": "code",
   "execution_count": 27,
   "metadata": {},
   "outputs": [
    {
     "data": {
      "text/html": [
       "<table>\n",
       "<thead><tr><th scope=col>pregnant</th><th scope=col>male</th><th scope=col>female</th></tr></thead>\n",
       "<tbody>\n",
       "\t<tr><td>yes</td><td>NA </td><td>10 </td></tr>\n",
       "\t<tr><td>no </td><td>20 </td><td>12 </td></tr>\n",
       "</tbody>\n",
       "</table>\n"
      ],
      "text/latex": [
       "\\begin{tabular}{r|lll}\n",
       " pregnant & male & female\\\\\n",
       "\\hline\n",
       "\t yes & NA  & 10 \\\\\n",
       "\t no  & 20  & 12 \\\\\n",
       "\\end{tabular}\n"
      ],
      "text/markdown": [
       "\n",
       "pregnant | male | female | \n",
       "|---|---|\n",
       "| yes | NA  | 10  | \n",
       "| no  | 20  | 12  | \n",
       "\n",
       "\n"
      ],
      "text/plain": [
       "  pregnant male female\n",
       "1 yes      NA   10    \n",
       "2 no       20   12    "
      ]
     },
     "metadata": {},
     "output_type": "display_data"
    }
   ],
   "source": [
    "preg <- tribble(\n",
    "  ~pregnant, ~male, ~female,\n",
    "  \"yes\",     NA,    10,\n",
    "  \"no\",      20,    12\n",
    ")\n",
    "preg"
   ]
  },
  {
   "cell_type": "markdown",
   "metadata": {},
   "source": [
    "# 12.4 Separating and uniting"
   ]
  },
  {
   "cell_type": "markdown",
   "metadata": {},
   "source": [
    "## Separate"
   ]
  },
  {
   "cell_type": "code",
   "execution_count": 31,
   "metadata": {},
   "outputs": [
    {
     "data": {
      "text/html": [
       "<table>\n",
       "<thead><tr><th scope=col>country</th><th scope=col>year</th><th scope=col>rate</th></tr></thead>\n",
       "<tbody>\n",
       "\t<tr><td>Afghanistan      </td><td>1999             </td><td>745/19987071     </td></tr>\n",
       "\t<tr><td>Afghanistan      </td><td>2000             </td><td>2666/20595360    </td></tr>\n",
       "\t<tr><td>Brazil           </td><td>1999             </td><td>37737/172006362  </td></tr>\n",
       "\t<tr><td>Brazil           </td><td>2000             </td><td>80488/174504898  </td></tr>\n",
       "\t<tr><td>China            </td><td>1999             </td><td>212258/1272915272</td></tr>\n",
       "\t<tr><td>China            </td><td>2000             </td><td>213766/1280428583</td></tr>\n",
       "</tbody>\n",
       "</table>\n"
      ],
      "text/latex": [
       "\\begin{tabular}{r|lll}\n",
       " country & year & rate\\\\\n",
       "\\hline\n",
       "\t Afghanistan       & 1999              & 745/19987071     \\\\\n",
       "\t Afghanistan       & 2000              & 2666/20595360    \\\\\n",
       "\t Brazil            & 1999              & 37737/172006362  \\\\\n",
       "\t Brazil            & 2000              & 80488/174504898  \\\\\n",
       "\t China             & 1999              & 212258/1272915272\\\\\n",
       "\t China             & 2000              & 213766/1280428583\\\\\n",
       "\\end{tabular}\n"
      ],
      "text/markdown": [
       "\n",
       "country | year | rate | \n",
       "|---|---|---|---|---|---|\n",
       "| Afghanistan       | 1999              | 745/19987071      | \n",
       "| Afghanistan       | 2000              | 2666/20595360     | \n",
       "| Brazil            | 1999              | 37737/172006362   | \n",
       "| Brazil            | 2000              | 80488/174504898   | \n",
       "| China             | 1999              | 212258/1272915272 | \n",
       "| China             | 2000              | 213766/1280428583 | \n",
       "\n",
       "\n"
      ],
      "text/plain": [
       "  country     year rate             \n",
       "1 Afghanistan 1999 745/19987071     \n",
       "2 Afghanistan 2000 2666/20595360    \n",
       "3 Brazil      1999 37737/172006362  \n",
       "4 Brazil      2000 80488/174504898  \n",
       "5 China       1999 212258/1272915272\n",
       "6 China       2000 213766/1280428583"
      ]
     },
     "metadata": {},
     "output_type": "display_data"
    }
   ],
   "source": [
    "table3 <- tribble(\n",
    "     ~country, ~year,             ~rate,\n",
    "#>      <chr>  <int>              <chr>\n",
    "\"Afghanistan\",  1999,      \"745/19987071\",\n",
    "\"Afghanistan\",  2000,     \"2666/20595360\",\n",
    "     \"Brazil\",  1999,   \"37737/172006362\",\n",
    "     \"Brazil\",  2000,   \"80488/174504898\",\n",
    "      \"China\",  1999, \"212258/1272915272\",\n",
    "      \"China\",  2000, \"213766/1280428583\")\n",
    "table3"
   ]
  },
  {
   "cell_type": "code",
   "execution_count": 32,
   "metadata": {},
   "outputs": [
    {
     "data": {
      "text/html": [
       "<table>\n",
       "<thead><tr><th scope=col>country</th><th scope=col>year</th><th scope=col>cases</th><th scope=col>population</th></tr></thead>\n",
       "<tbody>\n",
       "\t<tr><td>Afghanistan</td><td>1999       </td><td>745        </td><td>19987071   </td></tr>\n",
       "\t<tr><td>Afghanistan</td><td>2000       </td><td>2666       </td><td>20595360   </td></tr>\n",
       "\t<tr><td>Brazil     </td><td>1999       </td><td>37737      </td><td>172006362  </td></tr>\n",
       "\t<tr><td>Brazil     </td><td>2000       </td><td>80488      </td><td>174504898  </td></tr>\n",
       "\t<tr><td>China      </td><td>1999       </td><td>212258     </td><td>1272915272 </td></tr>\n",
       "\t<tr><td>China      </td><td>2000       </td><td>213766     </td><td>1280428583 </td></tr>\n",
       "</tbody>\n",
       "</table>\n"
      ],
      "text/latex": [
       "\\begin{tabular}{r|llll}\n",
       " country & year & cases & population\\\\\n",
       "\\hline\n",
       "\t Afghanistan & 1999        & 745         & 19987071   \\\\\n",
       "\t Afghanistan & 2000        & 2666        & 20595360   \\\\\n",
       "\t Brazil      & 1999        & 37737       & 172006362  \\\\\n",
       "\t Brazil      & 2000        & 80488       & 174504898  \\\\\n",
       "\t China       & 1999        & 212258      & 1272915272 \\\\\n",
       "\t China       & 2000        & 213766      & 1280428583 \\\\\n",
       "\\end{tabular}\n"
      ],
      "text/markdown": [
       "\n",
       "country | year | cases | population | \n",
       "|---|---|---|---|---|---|\n",
       "| Afghanistan | 1999        | 745         | 19987071    | \n",
       "| Afghanistan | 2000        | 2666        | 20595360    | \n",
       "| Brazil      | 1999        | 37737       | 172006362   | \n",
       "| Brazil      | 2000        | 80488       | 174504898   | \n",
       "| China       | 1999        | 212258      | 1272915272  | \n",
       "| China       | 2000        | 213766      | 1280428583  | \n",
       "\n",
       "\n"
      ],
      "text/plain": [
       "  country     year cases  population\n",
       "1 Afghanistan 1999 745    19987071  \n",
       "2 Afghanistan 2000 2666   20595360  \n",
       "3 Brazil      1999 37737  172006362 \n",
       "4 Brazil      2000 80488  174504898 \n",
       "5 China       1999 212258 1272915272\n",
       "6 China       2000 213766 1280428583"
      ]
     },
     "metadata": {},
     "output_type": "display_data"
    }
   ],
   "source": [
    "# By default, separate() will split values wherever it sees a non-alphanumeric character\n",
    "table3 %>% separate(rate, into = c(\"cases\", \"population\"))"
   ]
  },
  {
   "cell_type": "code",
   "execution_count": 33,
   "metadata": {},
   "outputs": [
    {
     "data": {
      "text/html": [
       "<table>\n",
       "<thead><tr><th scope=col>country</th><th scope=col>year</th><th scope=col>cases</th><th scope=col>population</th></tr></thead>\n",
       "<tbody>\n",
       "\t<tr><td>Afghanistan</td><td>1999       </td><td>745        </td><td>19987071   </td></tr>\n",
       "\t<tr><td>Afghanistan</td><td>2000       </td><td>2666       </td><td>20595360   </td></tr>\n",
       "\t<tr><td>Brazil     </td><td>1999       </td><td>37737      </td><td>172006362  </td></tr>\n",
       "\t<tr><td>Brazil     </td><td>2000       </td><td>80488      </td><td>174504898  </td></tr>\n",
       "\t<tr><td>China      </td><td>1999       </td><td>212258     </td><td>1272915272 </td></tr>\n",
       "\t<tr><td>China      </td><td>2000       </td><td>213766     </td><td>1280428583 </td></tr>\n",
       "</tbody>\n",
       "</table>\n"
      ],
      "text/latex": [
       "\\begin{tabular}{r|llll}\n",
       " country & year & cases & population\\\\\n",
       "\\hline\n",
       "\t Afghanistan & 1999        & 745         & 19987071   \\\\\n",
       "\t Afghanistan & 2000        & 2666        & 20595360   \\\\\n",
       "\t Brazil      & 1999        & 37737       & 172006362  \\\\\n",
       "\t Brazil      & 2000        & 80488       & 174504898  \\\\\n",
       "\t China       & 1999        & 212258      & 1272915272 \\\\\n",
       "\t China       & 2000        & 213766      & 1280428583 \\\\\n",
       "\\end{tabular}\n"
      ],
      "text/markdown": [
       "\n",
       "country | year | cases | population | \n",
       "|---|---|---|---|---|---|\n",
       "| Afghanistan | 1999        | 745         | 19987071    | \n",
       "| Afghanistan | 2000        | 2666        | 20595360    | \n",
       "| Brazil      | 1999        | 37737       | 172006362   | \n",
       "| Brazil      | 2000        | 80488       | 174504898   | \n",
       "| China       | 1999        | 212258      | 1272915272  | \n",
       "| China       | 2000        | 213766      | 1280428583  | \n",
       "\n",
       "\n"
      ],
      "text/plain": [
       "  country     year cases  population\n",
       "1 Afghanistan 1999 745    19987071  \n",
       "2 Afghanistan 2000 2666   20595360  \n",
       "3 Brazil      1999 37737  172006362 \n",
       "4 Brazil      2000 80488  174504898 \n",
       "5 China       1999 212258 1272915272\n",
       "6 China       2000 213766 1280428583"
      ]
     },
     "metadata": {},
     "output_type": "display_data"
    }
   ],
   "source": [
    "table3 %>% separate(rate, into = c(\"cases\", \"population\"), sep = \"/\")"
   ]
  },
  {
   "cell_type": "code",
   "execution_count": 34,
   "metadata": {},
   "outputs": [
    {
     "data": {
      "text/html": [
       "<table>\n",
       "<thead><tr><th scope=col>country</th><th scope=col>year</th><th scope=col>cases</th><th scope=col>population</th></tr></thead>\n",
       "<tbody>\n",
       "\t<tr><td>Afghanistan</td><td>1999       </td><td>   745     </td><td>  19987071 </td></tr>\n",
       "\t<tr><td>Afghanistan</td><td>2000       </td><td>  2666     </td><td>  20595360 </td></tr>\n",
       "\t<tr><td>Brazil     </td><td>1999       </td><td> 37737     </td><td> 172006362 </td></tr>\n",
       "\t<tr><td>Brazil     </td><td>2000       </td><td> 80488     </td><td> 174504898 </td></tr>\n",
       "\t<tr><td>China      </td><td>1999       </td><td>212258     </td><td>1272915272 </td></tr>\n",
       "\t<tr><td>China      </td><td>2000       </td><td>213766     </td><td>1280428583 </td></tr>\n",
       "</tbody>\n",
       "</table>\n"
      ],
      "text/latex": [
       "\\begin{tabular}{r|llll}\n",
       " country & year & cases & population\\\\\n",
       "\\hline\n",
       "\t Afghanistan & 1999        &    745      &   19987071 \\\\\n",
       "\t Afghanistan & 2000        &   2666      &   20595360 \\\\\n",
       "\t Brazil      & 1999        &  37737      &  172006362 \\\\\n",
       "\t Brazil      & 2000        &  80488      &  174504898 \\\\\n",
       "\t China       & 1999        & 212258      & 1272915272 \\\\\n",
       "\t China       & 2000        & 213766      & 1280428583 \\\\\n",
       "\\end{tabular}\n"
      ],
      "text/markdown": [
       "\n",
       "country | year | cases | population | \n",
       "|---|---|---|---|---|---|\n",
       "| Afghanistan | 1999        |    745      |   19987071  | \n",
       "| Afghanistan | 2000        |   2666      |   20595360  | \n",
       "| Brazil      | 1999        |  37737      |  172006362  | \n",
       "| Brazil      | 2000        |  80488      |  174504898  | \n",
       "| China       | 1999        | 212258      | 1272915272  | \n",
       "| China       | 2000        | 213766      | 1280428583  | \n",
       "\n",
       "\n"
      ],
      "text/plain": [
       "  country     year cases  population\n",
       "1 Afghanistan 1999    745   19987071\n",
       "2 Afghanistan 2000   2666   20595360\n",
       "3 Brazil      1999  37737  172006362\n",
       "4 Brazil      2000  80488  174504898\n",
       "5 China       1999 212258 1272915272\n",
       "6 China       2000 213766 1280428583"
      ]
     },
     "metadata": {},
     "output_type": "display_data"
    }
   ],
   "source": [
    "# the default behaviour in separate(): it leaves the type of the column as is\n",
    "# We can ask separate() to try and convert to better types using convert = TRUE\n",
    "table3 %>% separate(rate, into = c(\"cases\", \"population\"), convert = TRUE)"
   ]
  },
  {
   "cell_type": "markdown",
   "metadata": {},
   "source": [
    "## Unite"
   ]
  },
  {
   "cell_type": "code",
   "execution_count": 39,
   "metadata": {},
   "outputs": [
    {
     "data": {
      "text/html": [
       "<table>\n",
       "<thead><tr><th scope=col>country</th><th scope=col>century</th><th scope=col>year</th><th scope=col>rate</th></tr></thead>\n",
       "<tbody>\n",
       "\t<tr><td>Afghanistan      </td><td>19               </td><td>99               </td><td>745/19987071     </td></tr>\n",
       "\t<tr><td>Afghanistan      </td><td>20               </td><td>00               </td><td>2666/20595360    </td></tr>\n",
       "\t<tr><td>Brazil           </td><td>19               </td><td>99               </td><td>37737/172006362  </td></tr>\n",
       "\t<tr><td>Brazil           </td><td>20               </td><td>00               </td><td>80488/174504898  </td></tr>\n",
       "\t<tr><td>China            </td><td>19               </td><td>99               </td><td>212258/1272915272</td></tr>\n",
       "\t<tr><td>China            </td><td>20               </td><td>00               </td><td>213766/1280428583</td></tr>\n",
       "</tbody>\n",
       "</table>\n"
      ],
      "text/latex": [
       "\\begin{tabular}{r|llll}\n",
       " country & century & year & rate\\\\\n",
       "\\hline\n",
       "\t Afghanistan       & 19                & 99                & 745/19987071     \\\\\n",
       "\t Afghanistan       & 20                & 00                & 2666/20595360    \\\\\n",
       "\t Brazil            & 19                & 99                & 37737/172006362  \\\\\n",
       "\t Brazil            & 20                & 00                & 80488/174504898  \\\\\n",
       "\t China             & 19                & 99                & 212258/1272915272\\\\\n",
       "\t China             & 20                & 00                & 213766/1280428583\\\\\n",
       "\\end{tabular}\n"
      ],
      "text/markdown": [
       "\n",
       "country | century | year | rate | \n",
       "|---|---|---|---|---|---|\n",
       "| Afghanistan       | 19                | 99                | 745/19987071      | \n",
       "| Afghanistan       | 20                | 00                | 2666/20595360     | \n",
       "| Brazil            | 19                | 99                | 37737/172006362   | \n",
       "| Brazil            | 20                | 00                | 80488/174504898   | \n",
       "| China             | 19                | 99                | 212258/1272915272 | \n",
       "| China             | 20                | 00                | 213766/1280428583 | \n",
       "\n",
       "\n"
      ],
      "text/plain": [
       "  country     century year rate             \n",
       "1 Afghanistan 19      99   745/19987071     \n",
       "2 Afghanistan 20      00   2666/20595360    \n",
       "3 Brazil      19      99   37737/172006362  \n",
       "4 Brazil      20      00   80488/174504898  \n",
       "5 China       19      99   212258/1272915272\n",
       "6 China       20      00   213766/1280428583"
      ]
     },
     "metadata": {},
     "output_type": "display_data"
    }
   ],
   "source": [
    "table5 <- tidyr::table5\n",
    "table5"
   ]
  },
  {
   "cell_type": "code",
   "execution_count": 40,
   "metadata": {},
   "outputs": [
    {
     "data": {
      "text/html": [
       "<table>\n",
       "<thead><tr><th scope=col>country</th><th scope=col>new</th><th scope=col>rate</th></tr></thead>\n",
       "<tbody>\n",
       "\t<tr><td>Afghanistan      </td><td>19_99            </td><td>745/19987071     </td></tr>\n",
       "\t<tr><td>Afghanistan      </td><td>20_00            </td><td>2666/20595360    </td></tr>\n",
       "\t<tr><td>Brazil           </td><td>19_99            </td><td>37737/172006362  </td></tr>\n",
       "\t<tr><td>Brazil           </td><td>20_00            </td><td>80488/174504898  </td></tr>\n",
       "\t<tr><td>China            </td><td>19_99            </td><td>212258/1272915272</td></tr>\n",
       "\t<tr><td>China            </td><td>20_00            </td><td>213766/1280428583</td></tr>\n",
       "</tbody>\n",
       "</table>\n"
      ],
      "text/latex": [
       "\\begin{tabular}{r|lll}\n",
       " country & new & rate\\\\\n",
       "\\hline\n",
       "\t Afghanistan       & 19\\_99           & 745/19987071     \\\\\n",
       "\t Afghanistan       & 20\\_00           & 2666/20595360    \\\\\n",
       "\t Brazil            & 19\\_99           & 37737/172006362  \\\\\n",
       "\t Brazil            & 20\\_00           & 80488/174504898  \\\\\n",
       "\t China             & 19\\_99           & 212258/1272915272\\\\\n",
       "\t China             & 20\\_00           & 213766/1280428583\\\\\n",
       "\\end{tabular}\n"
      ],
      "text/markdown": [
       "\n",
       "country | new | rate | \n",
       "|---|---|---|---|---|---|\n",
       "| Afghanistan       | 19_99             | 745/19987071      | \n",
       "| Afghanistan       | 20_00             | 2666/20595360     | \n",
       "| Brazil            | 19_99             | 37737/172006362   | \n",
       "| Brazil            | 20_00             | 80488/174504898   | \n",
       "| China             | 19_99             | 212258/1272915272 | \n",
       "| China             | 20_00             | 213766/1280428583 | \n",
       "\n",
       "\n"
      ],
      "text/plain": [
       "  country     new   rate             \n",
       "1 Afghanistan 19_99 745/19987071     \n",
       "2 Afghanistan 20_00 2666/20595360    \n",
       "3 Brazil      19_99 37737/172006362  \n",
       "4 Brazil      20_00 80488/174504898  \n",
       "5 China       19_99 212258/1272915272\n",
       "6 China       20_00 213766/1280428583"
      ]
     },
     "metadata": {},
     "output_type": "display_data"
    }
   ],
   "source": [
    "table5 %>% unite(new, century, year) # unite new by centry and year"
   ]
  },
  {
   "cell_type": "code",
   "execution_count": 41,
   "metadata": {},
   "outputs": [
    {
     "data": {
      "text/html": [
       "<table>\n",
       "<thead><tr><th scope=col>country</th><th scope=col>new</th><th scope=col>rate</th></tr></thead>\n",
       "<tbody>\n",
       "\t<tr><td>Afghanistan      </td><td>1999             </td><td>745/19987071     </td></tr>\n",
       "\t<tr><td>Afghanistan      </td><td>2000             </td><td>2666/20595360    </td></tr>\n",
       "\t<tr><td>Brazil           </td><td>1999             </td><td>37737/172006362  </td></tr>\n",
       "\t<tr><td>Brazil           </td><td>2000             </td><td>80488/174504898  </td></tr>\n",
       "\t<tr><td>China            </td><td>1999             </td><td>212258/1272915272</td></tr>\n",
       "\t<tr><td>China            </td><td>2000             </td><td>213766/1280428583</td></tr>\n",
       "</tbody>\n",
       "</table>\n"
      ],
      "text/latex": [
       "\\begin{tabular}{r|lll}\n",
       " country & new & rate\\\\\n",
       "\\hline\n",
       "\t Afghanistan       & 1999              & 745/19987071     \\\\\n",
       "\t Afghanistan       & 2000              & 2666/20595360    \\\\\n",
       "\t Brazil            & 1999              & 37737/172006362  \\\\\n",
       "\t Brazil            & 2000              & 80488/174504898  \\\\\n",
       "\t China             & 1999              & 212258/1272915272\\\\\n",
       "\t China             & 2000              & 213766/1280428583\\\\\n",
       "\\end{tabular}\n"
      ],
      "text/markdown": [
       "\n",
       "country | new | rate | \n",
       "|---|---|---|---|---|---|\n",
       "| Afghanistan       | 1999              | 745/19987071      | \n",
       "| Afghanistan       | 2000              | 2666/20595360     | \n",
       "| Brazil            | 1999              | 37737/172006362   | \n",
       "| Brazil            | 2000              | 80488/174504898   | \n",
       "| China             | 1999              | 212258/1272915272 | \n",
       "| China             | 2000              | 213766/1280428583 | \n",
       "\n",
       "\n"
      ],
      "text/plain": [
       "  country     new  rate             \n",
       "1 Afghanistan 1999 745/19987071     \n",
       "2 Afghanistan 2000 2666/20595360    \n",
       "3 Brazil      1999 37737/172006362  \n",
       "4 Brazil      2000 80488/174504898  \n",
       "5 China       1999 212258/1272915272\n",
       "6 China       2000 213766/1280428583"
      ]
     },
     "metadata": {},
     "output_type": "display_data"
    }
   ],
   "source": [
    "table5 %>% unite(new, century, year, sep = \"\")"
   ]
  },
  {
   "cell_type": "markdown",
   "metadata": {},
   "source": [
    "# 12.5 Missing Values"
   ]
  },
  {
   "cell_type": "markdown",
   "metadata": {},
   "source": [
    "# 12.6 Case Study"
   ]
  },
  {
   "cell_type": "code",
   "execution_count": null,
   "metadata": {},
   "outputs": [],
   "source": []
  },
  {
   "cell_type": "code",
   "execution_count": null,
   "metadata": {},
   "outputs": [],
   "source": []
  },
  {
   "cell_type": "code",
   "execution_count": null,
   "metadata": {},
   "outputs": [],
   "source": []
  },
  {
   "cell_type": "markdown",
   "metadata": {},
   "source": [
    "# 12.7 Non-tidy data"
   ]
  },
  {
   "cell_type": "code",
   "execution_count": null,
   "metadata": {},
   "outputs": [],
   "source": []
  },
  {
   "cell_type": "code",
   "execution_count": null,
   "metadata": {},
   "outputs": [],
   "source": []
  }
 ],
 "metadata": {
  "kernelspec": {
   "display_name": "R",
   "language": "R",
   "name": "ir"
  },
  "language_info": {
   "codemirror_mode": "r",
   "file_extension": ".r",
   "mimetype": "text/x-r-source",
   "name": "R",
   "pygments_lexer": "r",
   "version": "3.4.3"
  }
 },
 "nbformat": 4,
 "nbformat_minor": 2
}
